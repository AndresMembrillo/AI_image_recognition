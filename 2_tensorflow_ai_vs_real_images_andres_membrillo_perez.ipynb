{
 "cells": [
  {
   "cell_type": "code",
   "execution_count": 1,
   "metadata": {},
   "outputs": [
    {
     "name": "stdout",
     "output_type": "stream",
     "text": [
      "Found 14895 images belonging to 2 classes.\n",
      "Found 3723 images belonging to 2 classes.\n",
      "Epoch 1/10\n",
      "32/32 [==============================] - 82s 3s/step - loss: 0.5430 - accuracy: 0.7178 - val_loss: 0.3451 - val_accuracy: 0.8313\n",
      "Epoch 2/10\n",
      "32/32 [==============================] - 81s 3s/step - loss: 0.4775 - accuracy: 0.7705 - val_loss: 0.2046 - val_accuracy: 0.9109\n",
      "Epoch 3/10\n",
      "32/32 [==============================] - 71s 2s/step - loss: 0.4100 - accuracy: 0.8232 - val_loss: 0.1313 - val_accuracy: 0.9406\n",
      "Epoch 4/10\n",
      "32/32 [==============================] - 71s 2s/step - loss: 0.3901 - accuracy: 0.8291 - val_loss: 0.3830 - val_accuracy: 0.7969\n",
      "Epoch 5/10\n",
      "32/32 [==============================] - 72s 2s/step - loss: 0.4014 - accuracy: 0.8154 - val_loss: 0.2502 - val_accuracy: 0.8828\n",
      "Epoch 6/10\n",
      "32/32 [==============================] - 74s 2s/step - loss: 0.3629 - accuracy: 0.8381 - val_loss: 0.2867 - val_accuracy: 0.8609\n",
      "Epoch 7/10\n",
      "32/32 [==============================] - 76s 2s/step - loss: 0.3296 - accuracy: 0.8545 - val_loss: 0.4561 - val_accuracy: 0.7453\n",
      "Epoch 8/10\n",
      "32/32 [==============================] - 79s 2s/step - loss: 0.3550 - accuracy: 0.8428 - val_loss: 0.2567 - val_accuracy: 0.8828\n",
      "Epoch 9/10\n",
      "32/32 [==============================] - 80s 3s/step - loss: 0.2888 - accuracy: 0.8672 - val_loss: 0.0931 - val_accuracy: 0.9672\n",
      "Epoch 10/10\n",
      "32/32 [==============================] - 82s 3s/step - loss: 0.3241 - accuracy: 0.8574 - val_loss: 0.3000 - val_accuracy: 0.8703\n"
     ]
    },
    {
     "data": {
      "text/plain": [
       "<keras.callbacks.History at 0x15d7c487b10>"
      ]
     },
     "execution_count": 1,
     "metadata": {},
     "output_type": "execute_result"
    }
   ],
   "source": [
    "import os\n",
    "import tensorflow as tf\n",
    "from keras import models\n",
    "from keras import layers\n",
    "from tf.keras.preprocessing import image\n",
    "from tf.keras.preprocessing.image import load_img, img_to_array, array_to_img, ImageDataGenerator\n",
    "from tf.keras.models import Sequential\n",
    "from tf.keras.layers import Conv2D, MaxPooling2D, Flatten, Dense, BatchNormalization, Dropout\n",
    "\n",
    "\n",
    "base_dir = 'ai-and-human-art-classification\\\\ai_art_classification'\n",
    "train_dir = os.path.join(base_dir, 'train')\n",
    "\n",
    "IMG_SIZE = (64,64)\n",
    "\n",
    "datagen = ImageDataGenerator(rescale=1./255, validation_split=0.2)\n",
    "\n",
    "train_generator = datagen.flow_from_directory(\n",
    "    train_dir,\n",
    "    target_size=IMG_SIZE,\n",
    "    batch_size=32,\n",
    "    class_mode='binary',\n",
    "    subset='training',  \n",
    "    shuffle=True\n",
    ")\n",
    "\n",
    "validation_generator = datagen.flow_from_directory(\n",
    "    train_dir,\n",
    "    target_size=IMG_SIZE,\n",
    "    batch_size=32,\n",
    "    class_mode='binary',\n",
    "    subset='validation',  \n",
    "    shuffle=False\n",
    ")\n",
    "\n",
    "conv_base = tf.keras.applications.VGG16(weights='imagenet', \n",
    "                                        include_top=False,  \n",
    "                                        input_shape=(IMG_SIZE[0], IMG_SIZE[1], 3))\n",
    "\n",
    "model = models.Sequential()\n",
    "model.add(conv_base) \n",
    "model.add(layers.Flatten())\n",
    "model.add(layers.Dense(100, activation='relu'))\n",
    "model.add(layers.Dense(1, activation='sigmoid'))\n",
    "\n",
    "model.compile(loss='binary_crossentropy',\n",
    "              optimizer=tf.keras.optimizers.RMSprop(learning_rate=2e-5),\n",
    "              metrics=['accuracy'])\n",
    "\n",
    "model.fit(\n",
    "    train_generator,\n",
    "    steps_per_epoch=32,\n",
    "    epochs=10,\n",
    "    shuffle=True,\n",
    "    validation_data=validation_generator,\n",
    "    validation_steps=20)"
   ]
  },
  {
   "cell_type": "code",
   "execution_count": 3,
   "metadata": {},
   "outputs": [],
   "source": [
    "model.save(\"model.h5\")"
   ]
  }
 ],
 "metadata": {
  "kaggle": {
   "accelerator": "nvidiaTeslaT4",
   "dataSources": [
    {
     "datasetId": 2029496,
     "sourceId": 3364939,
     "sourceType": "datasetVersion"
    },
    {
     "datasetId": 2492800,
     "sourceId": 4229472,
     "sourceType": "datasetVersion"
    },
    {
     "datasetId": 4130668,
     "sourceId": 7153482,
     "sourceType": "datasetVersion"
    }
   ],
   "dockerImageVersionId": 30646,
   "isGpuEnabled": true,
   "isInternetEnabled": true,
   "language": "python",
   "sourceType": "notebook"
  },
  "kernelspec": {
   "display_name": "Python 3 (ipykernel)",
   "language": "python",
   "name": "python3"
  },
  "language_info": {
   "codemirror_mode": {
    "name": "ipython",
    "version": 3
   },
   "file_extension": ".py",
   "mimetype": "text/x-python",
   "name": "python",
   "nbconvert_exporter": "python",
   "pygments_lexer": "ipython3",
   "version": "3.11.5"
  }
 },
 "nbformat": 4,
 "nbformat_minor": 4
}
